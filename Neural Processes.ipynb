{
 "cells": [
  {
   "cell_type": "markdown",
   "metadata": {},
   "source": [
    "# Neural processes"
   ]
  },
  {
   "cell_type": "code",
   "execution_count": 7,
   "metadata": {
    "ExecuteTime": {
     "end_time": "2018-08-29T21:57:21.849616Z",
     "start_time": "2018-08-29T21:57:21.847347Z"
    }
   },
   "outputs": [],
   "source": [
    "import tensorflow as tf\n",
    "from collections import namedtuple"
   ]
  },
  {
   "cell_type": "code",
   "execution_count": 10,
   "metadata": {
    "ExecuteTime": {
     "end_time": "2018-08-29T22:00:50.300249Z",
     "start_time": "2018-08-29T22:00:50.297064Z"
    }
   },
   "outputs": [],
   "source": [
    "def encoder_h(inputs: tf.Tensor, n_hidden_units: int, dim_r: int) -> tf.Tensor :\n",
    "    \"\"\"Map inputs (x_i, y_i) to r_i\"\"\"\n",
    "    hidden_outputs = tf.layers.dense(inputs, n_hidden_units, activation=tf.nn.sigmoid, name='encoder_layer1', reuse=tf.AUTO_REUSE)\n",
    "    r = tf.layers.dense(hidden_outputs, dim_repr, name=\"encoder_layer2\", reuse=tf.AUTO_REUSE)\n",
    "    return r"
   ]
  },
  {
   "cell_type": "code",
   "execution_count": 11,
   "metadata": {
    "ExecuteTime": {
     "end_time": "2018-08-29T22:00:57.824316Z",
     "start_time": "2018-08-29T22:00:57.821248Z"
    }
   },
   "outputs": [],
   "source": [
    "def aggregate_reprs(rs: tf.Tensor) -> tf.Tensor:\n",
    "    \"\"\"Aggregate the output of the encoder to a single representation\"\"\"\n",
    "    mean = tf.reduce_mean(rs, axis=0)\n",
    "    r = tf.reshape(mean, [1, -1])\n",
    "    return r"
   ]
  },
  {
   "cell_type": "code",
   "execution_count": 17,
   "metadata": {
    "ExecuteTime": {
     "end_time": "2018-08-29T22:41:59.470043Z",
     "start_time": "2018-08-29T22:41:59.465219Z"
    }
   },
   "outputs": [],
   "source": [
    "GaussianParams = namedtuple('GaussianParams', ['mu', 'sigma'])\n",
    "\n",
    "def get_z_params(input_r: tf.Tensor, dim_z: int) -> ZParams:\n",
    "    mu = tf.layers.dense(input_r, dim_z, name=\"z_params_mu\", reuse=tf.AUTO_REUSE)\n",
    "    sigma = tf.layers.dense(input_r, dim_z, name=\"z_params_sigma\", reuse=tf.AUTO_REUSE)\n",
    "    sigma = tf.nn.softplus(sigma)\n",
    "    return GaussianParams(mu, sigma)"
   ]
  },
  {
   "cell_type": "code",
   "execution_count": 18,
   "metadata": {
    "ExecuteTime": {
     "end_time": "2018-08-29T22:42:58.874764Z",
     "start_time": "2018-08-29T22:42:58.868272Z"
    }
   },
   "outputs": [],
   "source": [
    "def decoder_g(z_samples: tf.Tensor, x_star: tf.Tensor, n_hidden_units, noise_std: float=0.05) -> tf.Tensor:\n",
    "    # inputs dimensions\n",
    "    # z_sample has dim [n_draws, dim_z]\n",
    "    # x_star has dim [N_star, dim_x]\n",
    "\n",
    "    n_draws = z_samples.get_shape().as_list()[0]\n",
    "    n_xs = x_star.get_shape().as_list()[0]\n",
    "    \n",
    "    # Repeat z samples for each x*\n",
    "    z_samples_repeat = tf.expand_dims(z_samples, axis=1)\n",
    "    z_samples_repeat = tf.tile(z_samples_repeat, [1, n_xs, 1])\n",
    "    \n",
    "    # Repeat x* for each z sample\n",
    "    x_star_repeat = tf.expand_dims(x_star, axis=0)\n",
    "    x_star_repeat = tf.tile(x_star_repeat, [n_draws, 1, 1])\n",
    "    \n",
    "    # Concatenate x* and z\n",
    "    inputs = tf.concat([x_star_repeat, z_samples_repeat], axis=2)\n",
    "    \n",
    "    hidden = tf.layers.dense(inputs, n_hidden_units, activation=tf.nn.sigmoid, name=\"decoder_layer1\", reuse=tf.AUTO_REUSE)\n",
    "    \n",
    "    # mu will be of the shape [N_star, n_draws]\n",
    "    mu_star = tf.layers.dense(hidden, 1, name=\"decoder_layer2\", reuse=tf.AUTO_REUSE)\n",
    "    mu_star = tf.squeeze(mu_star, axis=2)\n",
    "    mu_star = tf.transpose()\n",
    "    \n",
    "    sigma_star = tf.constant(noise_std, dtype=tf.float32)\n",
    "\n",
    "    return GaussianParams(mu_star, sigma_star)"
   ]
  },
  {
   "cell_type": "code",
   "execution_count": 16,
   "metadata": {
    "ExecuteTime": {
     "end_time": "2018-08-29T22:20:27.736600Z",
     "start_time": "2018-08-29T22:20:27.733917Z"
    }
   },
   "outputs": [],
   "source": [
    "def xy_to_z_params(xs: tf.Tensor, ys: tf.Tensor, n_hidden_units_h: int, dim_r: int, dim_z: int):\n",
    "    xys = tf.concat([xs, ys], axis=1)\n",
    "    rs = encoder_h(xys, n_hidden_units_h, dim_r)\n",
    "    r = aggregate_r(rs)\n",
    "    z_params = get_z_params(r, dim_z)\n",
    "    return z_params"
   ]
  },
  {
   "cell_type": "code",
   "execution_count": 19,
   "metadata": {
    "ExecuteTime": {
     "end_time": "2018-08-29T22:45:44.877987Z",
     "start_time": "2018-08-29T22:45:44.874674Z"
    }
   },
   "outputs": [],
   "source": [
    "def KLqp_gaussian(mu_q, sigma_q, mu_p, sigma_p):\n",
    "    sigma2_q = tf.square(sigma_q) + 1e-16\n",
    "    sigma2_p = tf.square(sigma_p) + 1e-16\n",
    "    temp = sigma2_q / sigma2_p + tf.square(mu_q - mu_p) / sigma2_p - 1.0 + tf.log(sigma2_p / sigma2_q + 1e-16)\n",
    "    return 0.5 * tf.reduce_sum(temp)"
   ]
  },
  {
   "cell_type": "code",
   "execution_count": null,
   "metadata": {},
   "outputs": [],
   "source": [
    "def init_neural_process(x_context, y_context, x_target, y_target, dim_r, dim_z, n_hidden_units_h: int, n_hidden_units_g: int, learning_rate=0.001, n_draws=7):\n",
    "    # Concatenate context and target\n",
    "    x_all = tf.concat([x_context, x_target], axis=0)\n",
    "    y_all = tf.concat([y_context, y_target], axis=0)\n",
    "    \n",
    "    # Map input to z\n",
    "    z_context = xy_to_z_params(x_context, y_context, dim_r, dim_z)\n",
    "    z_all = xy_to_z_params(x_all, y_all, n_hidden_units_h, dim_r, dim_z)\n",
    "    \n",
    "    # Sample z\n",
    "    epsilon = tf.random_normal([n_draws, dim_z])\n",
    "    # TODO: Should this use sigma from z_context?\n",
    "    z_samples = tf.multiply(epsilon, z_all.sigma)\n",
    "    \n",
    "    # Map (z, x*) to y*\n",
    "    y_pred_params = decoder_g(z_samples, x_target, n_hidden_units_g)"
   ]
  }
 ],
 "metadata": {
  "kernelspec": {
   "display_name": "Python 3",
   "language": "python",
   "name": "python3"
  },
  "language_info": {
   "codemirror_mode": {
    "name": "ipython",
    "version": 3
   },
   "file_extension": ".py",
   "mimetype": "text/x-python",
   "name": "python",
   "nbconvert_exporter": "python",
   "pygments_lexer": "ipython3",
   "version": "3.6.6"
  },
  "toc": {
   "nav_menu": {},
   "number_sections": true,
   "sideBar": true,
   "skip_h1_title": false,
   "toc_cell": false,
   "toc_position": {
    "height": "1043.62px",
    "left": "0px",
    "right": "1054px",
    "top": "110.383px",
    "width": "26px"
   },
   "toc_section_display": "block",
   "toc_window_display": true
  }
 },
 "nbformat": 4,
 "nbformat_minor": 2
}
